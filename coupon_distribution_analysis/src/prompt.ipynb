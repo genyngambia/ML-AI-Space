{
 "cells": [
  {
   "cell_type": "markdown",
   "metadata": {},
   "source": [
    "### Will a Customer Accept the Coupon?\n",
    "\n",
    "**Context**\n",
    "\n",
    "Imagine driving through town and a coupon is delivered to your cell phone for a restaraunt near where you are driving. Would you accept that coupon and take a short detour to the restaraunt? Would you accept the coupon but use it on a sunbsequent trip? Would you ignore the coupon entirely? What if the coupon was for a bar instead of a restaraunt? What about a coffee house? Would you accept a bar coupon with a minor passenger in the car? What about if it was just you and your partner in the car? Would weather impact the rate of acceptance? What about the time of day?\n",
    "\n",
    "Obviously, proximity to the business is a factor on whether the coupon is delivered to the driver or not, but what are the factors that determine whether a driver accepts the coupon once it is delivered to them? How would you determine whether a driver is likely to accept a coupon?\n",
    "\n",
    "**Overview**\n",
    "\n",
    "The goal of this project is to use what you know about visualizations and probability distributions to distinguish between customers who accepted a driving coupon versus those that did not.\n",
    "\n",
    "**Data**\n",
    "\n",
    "This data comes to us from the UCI Machine Learning repository and was collected via a survey on Amazon Mechanical Turk. The survey describes different driving scenarios including the destination, current time, weather, passenger, etc., and then ask the person whether he will accept the coupon if he is the driver. Answers that the user will drive there ‘right away’ or ‘later before the coupon expires’ are labeled as ‘Y = 1’ and answers ‘no, I do not want the coupon’ are labeled as ‘Y = 0’.  There are five different types of coupons -- less expensive restaurants (under \\\\$20), coffee houses, carry out & take away, bar, and more expensive restaurants (\\\\$20 - \\\\$50). "
   ]
  },
  {
   "cell_type": "markdown",
   "metadata": {},
   "source": [
    "**Deliverables**\n",
    "\n",
    "Your final product should be a brief report that highlights the differences between customers who did and did not accept the coupons.  To explore the data you will utilize your knowledge of plotting, statistical summaries, and visualization using Python. You will publish your findings in a public facing github repository as your first portfolio piece. \n",
    "\n",
    "\n",
    "\n"
   ]
  },
  {
   "cell_type": "markdown",
   "metadata": {},
   "source": [
    "### Data Description\n",
    "Keep in mind that these values mentioned below are average values.\n",
    "\n",
    "The attributes of this data set include:\n",
    "1. User attributes\n",
    "    -  Gender: male, female\n",
    "    -  Age: below 21, 21 to 25, 26 to 30, etc.\n",
    "    -  Marital Status: single, married partner, unmarried partner, or widowed\n",
    "    -  Number of children: 0, 1, or more than 1\n",
    "    -  Education: high school, bachelors degree, associates degree, or graduate degree\n",
    "    -  Occupation: architecture & engineering, business & financial, etc.\n",
    "    -  Annual income: less than \\\\$12500, \\\\$12500 - \\\\$24999, \\\\$25000 - \\\\$37499, etc.\n",
    "    -  Number of times that he/she goes to a bar: 0, less than 1, 1 to 3, 4 to 8 or greater than 8\n",
    "    -  Number of times that he/she buys takeaway food: 0, less than 1, 1 to 3, 4 to 8 or greater\n",
    "    than 8\n",
    "    -  Number of times that he/she goes to a coffee house: 0, less than 1, 1 to 3, 4 to 8 or\n",
    "    greater than 8\n",
    "    -  Number of times that he/she eats at a restaurant with average expense less than \\\\$20 per\n",
    "    person: 0, less than 1, 1 to 3, 4 to 8 or greater than 8\n",
    "    -  Number of times that he/she goes to a bar: 0, less than 1, 1 to 3, 4 to 8 or greater than 8\n",
    "    \n",
    "\n",
    "2. Contextual attributes\n",
    "    - Driving destination: home, work, or no urgent destination\n",
    "    - Location of user, coupon and destination: we provide a map to show the geographical\n",
    "    location of the user, destination, and the venue, and we mark the distance between each\n",
    "    two places with time of driving. The user can see whether the venue is in the same\n",
    "    direction as the destination.\n",
    "    - Weather: sunny, rainy, or snowy\n",
    "    - Temperature: 30F, 55F, or 80F\n",
    "    - Time: 10AM, 2PM, or 6PM\n",
    "    - Passenger: alone, partner, kid(s), or friend(s)\n",
    "\n",
    "\n",
    "3. Coupon attributes\n",
    "    - time before it expires: 2 hours or one day"
   ]
  },
  {
   "cell_type": "code",
   "execution_count": 1,
   "metadata": {},
   "outputs": [],
   "source": [
    "import matplotlib.pyplot as plt\n",
    "import seaborn as sns\n",
    "import pandas as pd\n",
    "import numpy as np"
   ]
  },
  {
   "cell_type": "markdown",
   "metadata": {},
   "source": [
    "### Problems\n",
    "\n",
    "Use the prompts below to get started with your data analysis.  \n",
    "\n",
    "1. Read in the `coupons.csv` file.\n",
    "\n",
    "\n"
   ]
  },
  {
   "cell_type": "code",
   "execution_count": 2,
   "metadata": {},
   "outputs": [],
   "source": [
    "data = pd.read_csv('data/coupons.csv')"
   ]
  },
  {
   "cell_type": "code",
   "execution_count": 3,
   "metadata": {},
   "outputs": [
    {
     "data": {
      "text/html": [
       "<div>\n",
       "<style scoped>\n",
       "    .dataframe tbody tr th:only-of-type {\n",
       "        vertical-align: middle;\n",
       "    }\n",
       "\n",
       "    .dataframe tbody tr th {\n",
       "        vertical-align: top;\n",
       "    }\n",
       "\n",
       "    .dataframe thead th {\n",
       "        text-align: right;\n",
       "    }\n",
       "</style>\n",
       "<table border=\"1\" class=\"dataframe\">\n",
       "  <thead>\n",
       "    <tr style=\"text-align: right;\">\n",
       "      <th></th>\n",
       "      <th>destination</th>\n",
       "      <th>passanger</th>\n",
       "      <th>weather</th>\n",
       "      <th>temperature</th>\n",
       "      <th>time</th>\n",
       "      <th>coupon</th>\n",
       "      <th>expiration</th>\n",
       "      <th>gender</th>\n",
       "      <th>age</th>\n",
       "      <th>maritalStatus</th>\n",
       "      <th>...</th>\n",
       "      <th>CoffeeHouse</th>\n",
       "      <th>CarryAway</th>\n",
       "      <th>RestaurantLessThan20</th>\n",
       "      <th>Restaurant20To50</th>\n",
       "      <th>toCoupon_GEQ5min</th>\n",
       "      <th>toCoupon_GEQ15min</th>\n",
       "      <th>toCoupon_GEQ25min</th>\n",
       "      <th>direction_same</th>\n",
       "      <th>direction_opp</th>\n",
       "      <th>Y</th>\n",
       "    </tr>\n",
       "  </thead>\n",
       "  <tbody>\n",
       "    <tr>\n",
       "      <th>0</th>\n",
       "      <td>No Urgent Place</td>\n",
       "      <td>Alone</td>\n",
       "      <td>Sunny</td>\n",
       "      <td>55</td>\n",
       "      <td>2PM</td>\n",
       "      <td>Restaurant(&lt;20)</td>\n",
       "      <td>1d</td>\n",
       "      <td>Female</td>\n",
       "      <td>21</td>\n",
       "      <td>Unmarried partner</td>\n",
       "      <td>...</td>\n",
       "      <td>never</td>\n",
       "      <td>NaN</td>\n",
       "      <td>4~8</td>\n",
       "      <td>1~3</td>\n",
       "      <td>1</td>\n",
       "      <td>0</td>\n",
       "      <td>0</td>\n",
       "      <td>0</td>\n",
       "      <td>1</td>\n",
       "      <td>1</td>\n",
       "    </tr>\n",
       "    <tr>\n",
       "      <th>1</th>\n",
       "      <td>No Urgent Place</td>\n",
       "      <td>Friend(s)</td>\n",
       "      <td>Sunny</td>\n",
       "      <td>80</td>\n",
       "      <td>10AM</td>\n",
       "      <td>Coffee House</td>\n",
       "      <td>2h</td>\n",
       "      <td>Female</td>\n",
       "      <td>21</td>\n",
       "      <td>Unmarried partner</td>\n",
       "      <td>...</td>\n",
       "      <td>never</td>\n",
       "      <td>NaN</td>\n",
       "      <td>4~8</td>\n",
       "      <td>1~3</td>\n",
       "      <td>1</td>\n",
       "      <td>0</td>\n",
       "      <td>0</td>\n",
       "      <td>0</td>\n",
       "      <td>1</td>\n",
       "      <td>0</td>\n",
       "    </tr>\n",
       "    <tr>\n",
       "      <th>2</th>\n",
       "      <td>No Urgent Place</td>\n",
       "      <td>Friend(s)</td>\n",
       "      <td>Sunny</td>\n",
       "      <td>80</td>\n",
       "      <td>10AM</td>\n",
       "      <td>Carry out &amp; Take away</td>\n",
       "      <td>2h</td>\n",
       "      <td>Female</td>\n",
       "      <td>21</td>\n",
       "      <td>Unmarried partner</td>\n",
       "      <td>...</td>\n",
       "      <td>never</td>\n",
       "      <td>NaN</td>\n",
       "      <td>4~8</td>\n",
       "      <td>1~3</td>\n",
       "      <td>1</td>\n",
       "      <td>1</td>\n",
       "      <td>0</td>\n",
       "      <td>0</td>\n",
       "      <td>1</td>\n",
       "      <td>1</td>\n",
       "    </tr>\n",
       "    <tr>\n",
       "      <th>3</th>\n",
       "      <td>No Urgent Place</td>\n",
       "      <td>Friend(s)</td>\n",
       "      <td>Sunny</td>\n",
       "      <td>80</td>\n",
       "      <td>2PM</td>\n",
       "      <td>Coffee House</td>\n",
       "      <td>2h</td>\n",
       "      <td>Female</td>\n",
       "      <td>21</td>\n",
       "      <td>Unmarried partner</td>\n",
       "      <td>...</td>\n",
       "      <td>never</td>\n",
       "      <td>NaN</td>\n",
       "      <td>4~8</td>\n",
       "      <td>1~3</td>\n",
       "      <td>1</td>\n",
       "      <td>1</td>\n",
       "      <td>0</td>\n",
       "      <td>0</td>\n",
       "      <td>1</td>\n",
       "      <td>0</td>\n",
       "    </tr>\n",
       "    <tr>\n",
       "      <th>4</th>\n",
       "      <td>No Urgent Place</td>\n",
       "      <td>Friend(s)</td>\n",
       "      <td>Sunny</td>\n",
       "      <td>80</td>\n",
       "      <td>2PM</td>\n",
       "      <td>Coffee House</td>\n",
       "      <td>1d</td>\n",
       "      <td>Female</td>\n",
       "      <td>21</td>\n",
       "      <td>Unmarried partner</td>\n",
       "      <td>...</td>\n",
       "      <td>never</td>\n",
       "      <td>NaN</td>\n",
       "      <td>4~8</td>\n",
       "      <td>1~3</td>\n",
       "      <td>1</td>\n",
       "      <td>1</td>\n",
       "      <td>0</td>\n",
       "      <td>0</td>\n",
       "      <td>1</td>\n",
       "      <td>0</td>\n",
       "    </tr>\n",
       "  </tbody>\n",
       "</table>\n",
       "<p>5 rows × 26 columns</p>\n",
       "</div>"
      ],
      "text/plain": [
       "       destination  passanger weather  temperature  time  \\\n",
       "0  No Urgent Place      Alone   Sunny           55   2PM   \n",
       "1  No Urgent Place  Friend(s)   Sunny           80  10AM   \n",
       "2  No Urgent Place  Friend(s)   Sunny           80  10AM   \n",
       "3  No Urgent Place  Friend(s)   Sunny           80   2PM   \n",
       "4  No Urgent Place  Friend(s)   Sunny           80   2PM   \n",
       "\n",
       "                  coupon expiration  gender age      maritalStatus  ...  \\\n",
       "0        Restaurant(<20)         1d  Female  21  Unmarried partner  ...   \n",
       "1           Coffee House         2h  Female  21  Unmarried partner  ...   \n",
       "2  Carry out & Take away         2h  Female  21  Unmarried partner  ...   \n",
       "3           Coffee House         2h  Female  21  Unmarried partner  ...   \n",
       "4           Coffee House         1d  Female  21  Unmarried partner  ...   \n",
       "\n",
       "   CoffeeHouse CarryAway RestaurantLessThan20 Restaurant20To50  \\\n",
       "0        never       NaN                  4~8              1~3   \n",
       "1        never       NaN                  4~8              1~3   \n",
       "2        never       NaN                  4~8              1~3   \n",
       "3        never       NaN                  4~8              1~3   \n",
       "4        never       NaN                  4~8              1~3   \n",
       "\n",
       "  toCoupon_GEQ5min toCoupon_GEQ15min toCoupon_GEQ25min direction_same  \\\n",
       "0                1                 0                 0              0   \n",
       "1                1                 0                 0              0   \n",
       "2                1                 1                 0              0   \n",
       "3                1                 1                 0              0   \n",
       "4                1                 1                 0              0   \n",
       "\n",
       "  direction_opp  Y  \n",
       "0             1  1  \n",
       "1             1  0  \n",
       "2             1  1  \n",
       "3             1  0  \n",
       "4             1  0  \n",
       "\n",
       "[5 rows x 26 columns]"
      ]
     },
     "execution_count": 3,
     "metadata": {},
     "output_type": "execute_result"
    }
   ],
   "source": [
    "data.head()"
   ]
  },
  {
   "cell_type": "markdown",
   "metadata": {},
   "source": [
    "2. Investigate the dataset for missing or problematic data."
   ]
  },
  {
   "cell_type": "code",
   "execution_count": 4,
   "metadata": {},
   "outputs": [
    {
     "name": "stdout",
     "output_type": "stream",
     "text": [
      "destination                 0\n",
      "passanger                   0\n",
      "weather                     0\n",
      "temperature                 0\n",
      "time                        0\n",
      "coupon                      0\n",
      "expiration                  0\n",
      "gender                      0\n",
      "age                         0\n",
      "maritalStatus               0\n",
      "has_children                0\n",
      "education                   0\n",
      "occupation                  0\n",
      "income                      0\n",
      "car                     12576\n",
      "Bar                       107\n",
      "CoffeeHouse               217\n",
      "CarryAway                 151\n",
      "RestaurantLessThan20      130\n",
      "Restaurant20To50          189\n",
      "toCoupon_GEQ5min            0\n",
      "toCoupon_GEQ15min           0\n",
      "toCoupon_GEQ25min           0\n",
      "direction_same              0\n",
      "direction_opp               0\n",
      "Y                           0\n",
      "dtype: int64\n"
     ]
    }
   ],
   "source": [
    "#check for missing values\n",
    "print(data.isnull().sum())"
   ]
  },
  {
   "cell_type": "markdown",
   "metadata": {},
   "source": [
    "3. Decide what to do about your missing data -- drop, replace, other..."
   ]
  },
  {
   "cell_type": "code",
   "execution_count": 5,
   "metadata": {},
   "outputs": [
    {
     "name": "stdout",
     "output_type": "stream",
     "text": [
      "Column names: <bound method Index.sort_values of Index(['destination', 'passanger', 'weather', 'temperature', 'time', 'coupon',\n",
      "       'expiration', 'gender', 'age', 'maritalStatus', 'has_children',\n",
      "       'education', 'occupation', 'income', 'car', 'Bar', 'CoffeeHouse',\n",
      "       'CarryAway', 'RestaurantLessThan20', 'Restaurant20To50',\n",
      "       'toCoupon_GEQ5min', 'toCoupon_GEQ15min', 'toCoupon_GEQ25min',\n",
      "       'direction_same', 'direction_opp', 'Y'],\n",
      "      dtype='object')>\n"
     ]
    }
   ],
   "source": [
    "# Drop the column 'car' due to high number of missing values\n",
    "print(\"Column names:\", data.columns.sort_values)\n",
    "data.drop(columns=['car'], inplace=True)\n",
    "#Replace missing values in other columns with the mode\n",
    "for column in ['Bar', 'CoffeeHouse', 'CarryAway', 'RestaurantLessThan20', 'Restaurant20To50']:\n",
    " data[column].fillna(data[column].mode()[0], inplace=True)"
   ]
  },
  {
   "cell_type": "markdown",
   "metadata": {},
   "source": [
    "4. What proportion of the total observations chose to accept the coupon? \n",
    "\n"
   ]
  },
  {
   "cell_type": "code",
   "execution_count": 6,
   "metadata": {},
   "outputs": [
    {
     "name": "stdout",
     "output_type": "stream",
     "text": [
      "Proportion of Accepted Coupons: 0.57\n"
     ]
    }
   ],
   "source": [
    "proportion_accepted = data[data['Y']==1].shape[0] / data.shape[0]\n",
    "print(f\"Proportion of Accepted Coupons: {proportion_accepted:.2f}\")"
   ]
  },
  {
   "cell_type": "markdown",
   "metadata": {},
   "source": [
    "5. Use a bar plot to visualize the `coupon` column."
   ]
  },
  {
   "cell_type": "code",
   "execution_count": 18,
   "metadata": {},
   "outputs": [
    {
     "data": {
      "image/png": "[encoded data removed]",
      "text/plain": [
       "<Figure size 1200x800 with 1 Axes>"
      ]
     },
     "metadata": {},
     "output_type": "display_data"
    }
   ],
   "source": [
    "coupon_counts = data['coupon'].value_counts().reset_index()\n",
    "coupon_counts.columns = ['coupon','count']\n",
    "# Create the bar plot and set the figure size before plotting\n",
    "plt.figure(figsize=(12, 8))\n",
    "sns.barplot(x='coupon', y='count', data=coupon_counts)\n",
    "# Set the title and labels\n",
    "plt.title('Distribution of Coupon Type')\n",
    "plt.xlabel('Coupon Type')\n",
    "plt.ylabel('Count')\n",
    "# Save the plot\n",
    "plt.savefig('images/Distribution_of_Coupon_Type.png')\n",
    "# Show the plot\n",
    "plt.show()"
   ]
  },
  {
   "cell_type": "markdown",
   "metadata": {},
   "source": [
    "6. Use a histogram to visualize the temperature column."
   ]
  },
  {
   "cell_type": "code",
   "execution_count": 8,
   "metadata": {},
   "outputs": [
    {
     "data": {
      "image/png": "[encoded data removed]",
      "text/plain": [
       "<Figure size 640x480 with 1 Axes>"
      ]
     },
     "metadata": {},
     "output_type": "display_data"
    }
   ],
   "source": [
    "plt.hist(data['temperature'])\n",
    "plt.title('Distribution of Tempature')\n",
    "# Set the title and labels\n",
    "plt.xlabel('Temparature')\n",
    "plt.ylabel('Frequency')\n",
    "# Save the plot\n",
    "plt.savefig('images/Distribution_of_Tempature.png')\n",
    "# Show the plot\n",
    "plt.show()"
   ]
  },
  {
   "cell_type": "code",
   "execution_count": null,
   "metadata": {},
   "outputs": [],
   "source": []
  },
  {
   "cell_type": "code",
   "execution_count": null,
   "metadata": {},
   "outputs": [],
   "source": []
  },
  {
   "cell_type": "code",
   "execution_count": null,
   "metadata": {},
   "outputs": [],
   "source": []
  },
  {
   "cell_type": "code",
   "execution_count": null,
   "metadata": {},
   "outputs": [],
   "source": []
  },
  {
   "cell_type": "markdown",
   "metadata": {},
   "source": [
    "**Investigating the Bar Coupons**\n",
    "\n",
    "Now, we will lead you through an exploration of just the bar related coupons.  \n",
    "\n",
    "1. Create a new `DataFrame` that contains just the bar coupons.\n"
   ]
  },
  {
   "cell_type": "code",
   "execution_count": 9,
   "metadata": {},
   "outputs": [],
   "source": [
    "# Filter the DataFrame to include only rows where the coupon is related to bars\n",
    "data_bar_coupon = data[data['coupon']=='Bar'].copy()\n",
    "# Define the mapping for the 'Bar' column\n",
    "bar_mapping = {\n",
    "    \"never\": 0,\n",
    "    \"less1\": 0.5,\n",
    "    \"1~3\": 2,\n",
    "    \"4~8\": 6,\n",
    "    \"gt8\": 9\n",
    "}\n",
    "# Apply the mapping to the 'Bar' column\n",
    "data_bar_coupon['Bar'] = data_bar_coupon['Bar'].replace(bar_mapping)\n",
    "\n"
   ]
  },
  {
   "cell_type": "markdown",
   "metadata": {},
   "source": [
    "2. What proportion of bar coupons were accepted?\n"
   ]
  },
  {
   "cell_type": "code",
   "execution_count": 10,
   "metadata": {},
   "outputs": [
    {
     "name": "stdout",
     "output_type": "stream",
     "text": [
      "Proportion of coupon accepted: 0.065200\n"
     ]
    }
   ],
   "source": [
    "# Calculate the proportion of bar coupons accepted\n",
    "proportion_bar_coupon_accepted = data_bar_coupon[data_bar_coupon[\"Y\"] == 1].shape[0]/data.shape[0]\n",
    "print(f\"Proportion of coupon accepted: {proportion_bar_coupon_accepted:2f}\")\n"
   ]
  },
  {
   "cell_type": "markdown",
   "metadata": {},
   "source": [
    "3. Compare the acceptance rate between those who went to a bar 3 or fewer times a month to those who went more.\n"
   ]
  },
  {
   "cell_type": "code",
   "execution_count": 11,
   "metadata": {},
   "outputs": [
    {
     "name": "stdout",
     "output_type": "stream",
     "text": [
      "Proportion of bar coupons accepted by users who  go to a bar 3 times or fewer: 0.334160\n",
      "Proportion of bar coupons accepted by users who go to a bar more than 3 times: 0.075855\n"
     ]
    }
   ],
   "source": [
    "# Calculate the proportion of bar coupons accepted by users who go to a bar 3 times or fewer\n",
    "acceptance_bar_3_times_or_lower = data_bar_coupon[(data_bar_coupon['Bar'] <= 2) & (data_bar_coupon['Y'] == 1)].shape[0]/data_bar_coupon.shape[0]\n",
    "\n",
    "\n",
    "# Calculate the proportion of bar coupons accepted by users who go to a bar more than 3 times \n",
    "acceptance_bar_more_than_3 = data_bar_coupon[(data_bar_coupon['Bar'] > 2) & (data_bar_coupon['Y'] == 1)].shape[0]/data_bar_coupon.shape[0]\n",
    "\n",
    "print(f\"Proportion of bar coupons accepted by users who  go to a bar 3 times or fewer: {acceptance_bar_3_times_or_lower:2f}\")\n",
    "print(f\"Proportion of bar coupons accepted by users who go to a bar more than 3 times: {acceptance_bar_more_than_3:2f}\")\n"
   ]
  },
  {
   "cell_type": "markdown",
   "metadata": {},
   "source": [
    "4. Compare the acceptance rate between drivers who go to a bar more than once a month and are over the age of 25 to the all others.  Is there a difference?\n"
   ]
  },
  {
   "cell_type": "code",
   "execution_count": 12,
   "metadata": {},
   "outputs": [
    {
     "name": "stdout",
     "output_type": "stream",
     "text": [
      "Proportion of bar coupons accepted by users who go to a bar more than once a month and are over the age of 25: 0.14\n"
     ]
    }
   ],
   "source": [
    "# First, convert the 'age' column to integers\n",
    "age_mapping = {\n",
    "    \"below21\": 20,\n",
    "    \"21\": 21,\n",
    "    \"26\": 26,\n",
    "    \"31\": 31,\n",
    "    \"36\": 36,\n",
    "    \"41\": 41,\n",
    "    \"46\": 46,\n",
    "    \"50plus\": 51  # approximate for above 50\n",
    "}\n",
    "\n",
    "# Replace the age categories with their corresponding integer values\n",
    "data_bar_coupon['age'] = data_bar_coupon['age'].replace(age_mapping).astype(int)\n",
    "\n",
    "# Calculate the proportion of bar coupons accepted by users who go to a bar more than once a month and are over the age of 25\n",
    "acceptance_bar_more_than_one_per_month_and_over_25 = data_bar_coupon[\n",
    "(data_bar_coupon['Bar'] > 1) & \n",
    "    (data_bar_coupon['age'] > 25) &\n",
    "    (data_bar_coupon['Y'] == 1)\n",
    "].shape[0] / data_bar_coupon.shape[0]\n",
    "\n",
    "# Display the results\n",
    "print(f\"Proportion of bar coupons accepted by users who go to a bar more than once a month and are over the age of 25: {acceptance_bar_more_than_one_per_month_and_over_25:.2f}\")\n",
    "\n"
   ]
  },
  {
   "cell_type": "markdown",
   "metadata": {},
   "source": [
    "5. Use the same process to compare the acceptance rate between drivers who go to bars more than once a month and had passengers that were not a kid and had occupations other than farming, fishing, or forestry. \n"
   ]
  },
  {
   "cell_type": "code",
   "execution_count": 13,
   "metadata": {},
   "outputs": [
    {
     "name": "stdout",
     "output_type": "stream",
     "text": [
      "Acceptance rate for drivers who go to bars more than once a month, had passengers that were not a kid, and had occupations other than farming, fishing, or forestry: 0.71\n"
     ]
    }
   ],
   "source": [
    "# Define the occupations to exclude\n",
    "excluded_occupations = [\"farming\", \"fishing\", \"forestry\"]\n",
    "\n",
    "# Filter for drivers who go to bars more than once a month, had passengers that were not a kid, and had occupations other than farming, fishing, or forestry\n",
    "filtered_data = data_bar_coupon[\n",
    "    (data_bar_coupon['Bar'] > 1) &\n",
    "    (data_bar_coupon['passanger'] != 'Kid(s)') &\n",
    "    (~data_bar_coupon['occupation'].isin(excluded_occupations))\n",
    "]\n",
    "\n",
    "# Calculate the proportion of accepted bar coupons for the filtered data\n",
    "acceptance_rate_filtered = filtered_data[filtered_data['Y'] == 1].shape[0] / filtered_data.shape[0]\n",
    "\n",
    "# Display the results\n",
    "print(f\"Acceptance rate for drivers who go to bars more than once a month, had passengers that were not a kid, \"\n",
    "      f\"and had occupations other than farming, fishing, or forestry: {acceptance_rate_filtered:.2f}\")"
   ]
  },
  {
   "cell_type": "markdown",
   "metadata": {},
   "source": [
    "6. Compare the acceptance rates between those drivers who:\n",
    "\n",
    "- go to bars more than once a month, had passengers that were not a kid, and were not widowed *OR*\n",
    "- go to bars more than once a month and are under the age of 30 *OR*\n",
    "- go to cheap restaurants more than 4 times a month and income is less than 50K. \n",
    "\n"
   ]
  },
  {
   "cell_type": "code",
   "execution_count": 14,
   "metadata": {},
   "outputs": [
    {
     "name": "stdout",
     "output_type": "stream",
     "text": [
      "Acceptance rate for drivers who go to bars more than once a month, had passengers that were not a kid, and were not widowed: 0.71\n",
      "Acceptance rate for drivers who go to bars more than once a month and are under the age of 30: 0.72\n",
      "Acceptance rate for drivers who go to cheap restaurants more than 4 times a month and income is less than 50K: 0.71\n"
     ]
    }
   ],
   "source": [
    "# Filter for each condition and calculate the acceptance rates\n",
    "\n",
    "# Condition 1: Drivers who go to bars more than once a month, had passengers that were not a kid, and were not widowed\n",
    "condition1 = data_bar_coupon[\n",
    "    (data_bar_coupon['Bar'] > 1) &\n",
    "    (data_bar_coupon['passanger'] != 'Kid(s)') &\n",
    "    (data_bar_coupon['maritalStatus'] != 'widowed')\n",
    "]\n",
    "\n",
    "# Condition 2: Drivers who go to bars more than once a month and are under the age of 30\n",
    "condition2 = data_bar_coupon[\n",
    "    (data_bar_coupon['Bar'] > 1) &\n",
    "    (data_bar_coupon['age'] < 30)\n",
    "]\n",
    "\n",
    "# Condition 3: Drivers who go to cheap restaurants more than 4 times a month and income is less than 50K\n",
    "# Create a new data frame for cheap Restaurant\n",
    "data_restaurant_coupon = data[data['coupon']=='Restaurant(<20)'].copy()\n",
    "\n",
    "# Define the mapping for the 'RestaurantLessThan20' column\n",
    "restaurant_mapping = {\n",
    "    \"never\": 0,\n",
    "    \"less1\": 0.5,\n",
    "    \"1~3\": 2,\n",
    "    \"4~8\": 6,\n",
    "    \"gt8\": 9\n",
    "}\n",
    "# Define the mapping for the 'Income' column\n",
    "income_mapping = {\n",
    "    \"Less than $12500\": 1,\n",
    "    \"$12500 - $24999\": 2,\n",
    "    \"$25000 - $37499\": 3,\n",
    "    \"$37500 - $49999\": 4,\n",
    "    \"$50000 - $62499\": 5,\n",
    "    \"$62500 - $74999\": 6,\n",
    "    \"$75000 - $87499\": 7,\n",
    "    \"$87500 - $99999\": 8,\n",
    "    \"$100000 or More\": 9  # Fix the mapping for the specific value\n",
    "}\n",
    "data_restaurant_coupon['RestaurantLessThan20'] = data_restaurant_coupon['RestaurantLessThan20'].replace(restaurant_mapping)\n",
    "data_restaurant_coupon['income'] = data_restaurant_coupon['income'].replace(income_mapping)\n",
    "condition3 = data_restaurant_coupon[\n",
    "    (data_restaurant_coupon['RestaurantLessThan20'] > 4) &\n",
    "    (data_restaurant_coupon['income'] < 5)  # Assuming 4 corresponds to < 50K in income_mapping\n",
    "]\n",
    "\n",
    "# Calculate the acceptance rates for each condition\n",
    "acceptance_rate_condition1 = condition1[condition1['Y'] == 1].shape[0] / condition1.shape[0] \n",
    "acceptance_rate_condition2 = condition2[condition2['Y'] == 1].shape[0] / condition2.shape[0] \n",
    "acceptance_rate_condition3 = condition3[condition3['Y'] == 1].shape[0] / condition3.shape[0] \n",
    "\n",
    "# Display the results\n",
    "print(f\"Acceptance rate for drivers who go to bars more than once a month, had passengers that were not a kid, and were not widowed: {acceptance_rate_condition1:.2f}\")\n",
    "print(f\"Acceptance rate for drivers who go to bars more than once a month and are under the age of 30: {acceptance_rate_condition2:.2f}\")\n",
    "print(f\"Acceptance rate for drivers who go to cheap restaurants more than 4 times a month and income is less than 50K: {acceptance_rate_condition3:.2f}\")"
   ]
  },
  {
   "cell_type": "markdown",
   "metadata": {},
   "source": [
    "7.  Based on these observations, what do you hypothesize about drivers who accepted the bar coupons?"
   ]
  },
  {
   "cell_type": "code",
   "execution_count": 15,
   "metadata": {},
   "outputs": [],
   "source": [
    "#Social Activity and Savings Motivation:\n",
    "#Drivers who are socially active and enjoy frequent outings, whether to bars or restaurants, are more likely to accept bar coupons. This includes both younger drivers and those with lower incomes who may seek out deals and discounts. The presence of adult passengers, who might share an interest in visiting bars, also increases the likelihood of accepting bar coupons."
   ]
  },
  {
   "cell_type": "markdown",
   "metadata": {},
   "source": [
    "### Independent Investigation\n",
    "\n",
    "Using the bar coupon example as motivation, you are to explore one of the other coupon groups and try to determine the characteristics of passengers who accept the coupons.  "
   ]
  },
  {
   "cell_type": "code",
   "execution_count": 16,
   "metadata": {},
   "outputs": [
    {
     "data": {
      "image/png": "[encoded data removed]",
      "text/plain": [
       "<Figure size 1200x800 with 1 Axes>"
      ]
     },
     "metadata": {},
     "output_type": "display_data"
    }
   ],
   "source": [
    "\n",
    "# Calculate acceptance rates by gender and by marital status\n",
    "genders = data_bar_coupon['gender'].unique()\n",
    "results = {}\n",
    "\n",
    "for gender in genders:\n",
    "    gender_condition1 = data_bar_coupon[\n",
    "        (data_bar_coupon['Bar'] > 1) &\n",
    "        (data_bar_coupon['maritalStatus'] == 'Divorced') &\n",
    "        (data_bar_coupon['gender'] == gender)\n",
    "    ]\n",
    "    gender_condition2 = data_bar_coupon[\n",
    "        (data_bar_coupon['Bar'] > 1) &\n",
    "           (data_bar_coupon['maritalStatus'] == 'Single') &\n",
    "        (data_bar_coupon['gender'] == gender)\n",
    "    ]\n",
    "\n",
    "    gender_condition3 = data_bar_coupon[\n",
    "        (data_bar_coupon['Bar'] > 1) &\n",
    "           (data_bar_coupon['maritalStatus'] == 'Unmarried partner') &\n",
    "        (data_bar_coupon['gender'] == gender)\n",
    "    ]\n",
    "\n",
    "    gender_condition4 = data_bar_coupon[\n",
    "        (data_bar_coupon['Bar'] > 1) &\n",
    "           (data_bar_coupon['maritalStatus'] == 'Married partner') &\n",
    "        (data_bar_coupon['gender'] == gender)\n",
    "    ]\n",
    "\n",
    "    acceptance_rate_condition1 = gender_condition1[gender_condition1['Y'] == 1].shape[0] / gender_condition1.shape[0] \n",
    "    acceptance_rate_condition2 = gender_condition2[gender_condition2['Y'] == 1].shape[0] / gender_condition2.shape[0] \n",
    "    acceptance_rate_condition3 = gender_condition3[gender_condition3['Y'] == 1].shape[0] / gender_condition3.shape[0] \n",
    "    acceptance_rate_condition4 = gender_condition4[gender_condition4['Y'] == 1].shape[0] / gender_condition4.shape[0] \n",
    "\n",
    "    results[gender] = {\n",
    "        \"Acceptance rate for drivers who go to bars more than once a month and were divorced: \": acceptance_rate_condition1,\n",
    "        \"Acceptance rate for drivers who go to bars more than once a month and were Single: \": acceptance_rate_condition2,\n",
    "        \"Acceptance rate for drivers who go to bars more than once a month and were Unmarried partner: \": acceptance_rate_condition3,\n",
    "        \"Acceptance rate for drivers who go to bars more than once a month and were Married partner: \": acceptance_rate_condition4\n",
    "    }\n",
    "\n",
    "\n",
    "# Convert results to a DataFrame\n",
    "df_results = pd.DataFrame(results).transpose()\n",
    "df_results.columns = [\n",
    "    \"Divorced\",\n",
    "    \"Single\",\n",
    "    \"Unmarried Partner\",\n",
    "    \"Married Partner\"\n",
    "]\n",
    "\n",
    "# Reset index to get 'gender' as a column\n",
    "df_results.reset_index(inplace=True)\n",
    "\n",
    "# Melt the DataFrame to long format for seaborn\n",
    "df_long = df_results.melt(id_vars=\"index\", var_name=\"Marital Status\", value_name=\"Acceptance Rate\")\n",
    "df_long.columns = [\"Gender\", \"Marital Status\", \"Acceptance Rate\"]\n",
    "\n",
    "# Plotting\n",
    "plt.figure(figsize=(12, 8))\n",
    "sns.barplot(x=\"Marital Status\", y=\"Acceptance Rate\", hue=\"Gender\", data=df_long)\n",
    "plt.title('Acceptance Rates by Gender and Marital Status')\n",
    "plt.ylabel('Acceptance Rate')\n",
    "plt.xlabel('Marital Status')\n",
    "plt.ylim(0, 1)\n",
    "plt.legend(title='Gender')\n",
    "plt.savefig('images/Acceptance_Rates_by_Gender_and_Marital_Status.png')\n",
    "plt.show()\n",
    "\n"
   ]
  },
  {
   "cell_type": "code",
   "execution_count": null,
   "metadata": {},
   "outputs": [],
   "source": []
  },
  {
   "cell_type": "code",
   "execution_count": null,
   "metadata": {},
   "outputs": [],
   "source": []
  },
  {
   "cell_type": "code",
   "execution_count": null,
   "metadata": {},
   "outputs": [],
   "source": []
  },
  {
   "cell_type": "code",
   "execution_count": null,
   "metadata": {},
   "outputs": [],
   "source": []
  }
 ],
 "metadata": {
  "kernelspec": {
   "display_name": "Python 3 (ipykernel)",
   "language": "python",
   "name": "python3"
  },
  "language_info": {
   "codemirror_mode": {
    "name": "ipython",
    "version": 3
   },
   "file_extension": ".py",
   "mimetype": "text/x-python",
   "name": "python",
   "nbconvert_exporter": "python",
   "pygments_lexer": "ipython3",
   "version": "3.11.7"
  },
  "widgets": {
   "application/vnd.jupyter.widget-state+json": {
    "state": {},
    "version_major": 2,
    "version_minor": 0
   }
  }
 },
 "nbformat": 4,
 "nbformat_minor": 4
}
